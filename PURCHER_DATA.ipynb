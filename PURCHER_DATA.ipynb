{
  "nbformat": 4,
  "nbformat_minor": 0,
  "metadata": {
    "colab": {
      "provenance": [],
      "authorship_tag": "ABX9TyPCQFzW9h1a8DorRHjOSAQV",
      "include_colab_link": true
    },
    "kernelspec": {
      "name": "python3",
      "display_name": "Python 3"
    },
    "language_info": {
      "name": "python"
    }
  },
  "cells": [
    {
      "cell_type": "markdown",
      "metadata": {
        "id": "view-in-github",
        "colab_type": "text"
      },
      "source": [
        "<a href=\"https://colab.research.google.com/github/Vikkysai/Python/blob/main/PURCHER_DATA.ipynb\" target=\"_parent\"><img src=\"https://colab.research.google.com/assets/colab-badge.svg\" alt=\"Open In Colab\"/></a>"
      ]
    },
    {
      "cell_type": "code",
      "execution_count": null,
      "metadata": {
        "id": "V-jmtjkH5OL4"
      },
      "outputs": [],
      "source": [
        "import numpy as np\n",
        "import pandas as pd\n",
        "import matplotlib.pyplot as plt\n",
        "import seaborn as sns\n"
      ]
    },
    {
      "cell_type": "code",
      "source": [
        "#data loading\n",
        "data=pd.read_csv('customer_purchase_data.csv')"
      ],
      "metadata": {
        "id": "77I123qs5a7k"
      },
      "execution_count": null,
      "outputs": []
    },
    {
      "cell_type": "code",
      "source": [
        "data.head()"
      ],
      "metadata": {
        "id": "4cDjG_VT5mBH"
      },
      "execution_count": null,
      "outputs": []
    },
    {
      "cell_type": "code",
      "source": [
        "data.describe()"
      ],
      "metadata": {
        "id": "nF0tDzKz5qLD"
      },
      "execution_count": null,
      "outputs": []
    },
    {
      "cell_type": "code",
      "source": [
        "data.info()"
      ],
      "metadata": {
        "id": "2Ntr0jAU5tnU"
      },
      "execution_count": null,
      "outputs": []
    },
    {
      "cell_type": "code",
      "source": [
        "data.duplicated().any()"
      ],
      "metadata": {
        "id": "IPzCvVaO5zdq"
      },
      "execution_count": null,
      "outputs": []
    },
    {
      "cell_type": "code",
      "source": [
        "data.drop_duplicates(inplace=True)"
      ],
      "metadata": {
        "id": "DiEEzT6h50iF"
      },
      "execution_count": null,
      "outputs": []
    },
    {
      "cell_type": "code",
      "source": [
        "data.duplicated().any()"
      ],
      "metadata": {
        "id": "_9GO6kHp54v5"
      },
      "execution_count": null,
      "outputs": []
    },
    {
      "cell_type": "code",
      "source": [
        "data.head()"
      ],
      "metadata": {
        "id": "rTUW3mDR5744"
      },
      "execution_count": null,
      "outputs": []
    },
    {
      "cell_type": "code",
      "source": [
        "#boxplot of timespent on website for male and female\n",
        "plt.figure(figsize=(10, 6))\n",
        "sns.boxplot(x='Gender', y='TimeSpentOnWebsite',data=data)\n",
        "plt.title('Time Spent on Website by Gender')\n",
        "plt.xlabel('Gender')\n",
        "plt.ylabel('Time Spent on Website')\n",
        "plt.show()"
      ],
      "metadata": {
        "id": "vOGfdLbk5_oC"
      },
      "execution_count": null,
      "outputs": []
    },
    {
      "cell_type": "code",
      "source": [
        "#count of every column in dataset\n",
        "for column in data:\n",
        "    plt.figure(figsize=(14, 5))\n",
        "    sns.countplot(data=data, x=column)\n",
        "    plt.title(f'Distribution of {column}')\n",
        "    plt.show()"
      ],
      "metadata": {
        "id": "JpBDjQ_26D1f"
      },
      "execution_count": null,
      "outputs": []
    },
    {
      "cell_type": "code",
      "source": [
        "plt.figure(figsize=(14,10))\n",
        "sns.heatmap(data.corr(), annot=True)\n",
        "plt.title('Correlation Heatmap')\n",
        "plt.show()\n"
      ],
      "metadata": {
        "id": "Vzk-Z0Qf6Kyt"
      },
      "execution_count": null,
      "outputs": []
    },
    {
      "cell_type": "code",
      "source": [
        "print(max(data['Age']))\n",
        "min(data['Age'])"
      ],
      "metadata": {
        "id": "YEgy4hFr6D4u"
      },
      "execution_count": null,
      "outputs": []
    },
    {
      "cell_type": "code",
      "source": [
        "#average no.of purchases by age\n",
        "plt.figure(figsize=(18, 6))\n",
        "sns.barplot(x='Age', y='NumberOfPurchases', data=data)\n",
        "plt.title('Average Number of Purchases by Age')\n",
        "plt.xlabel('Age')\n",
        "plt.ylabel('Average Number of Purchases')\n",
        "plt.show()\n"
      ],
      "metadata": {
        "id": "gvU72IWL6U11"
      },
      "execution_count": null,
      "outputs": []
    },
    {
      "cell_type": "code",
      "source": [
        "data.AnnualIncome.value_counts(bins=1)"
      ],
      "metadata": {
        "id": "_9Cdmeq36YNf"
      },
      "execution_count": null,
      "outputs": []
    },
    {
      "cell_type": "code",
      "source": [
        "#AnnualIncome based on gender\n",
        "plt.figure(figsize=(10, 6))\n",
        "sns.boxplot(x='Gender', y='AnnualIncome',data=data)\n",
        "plt.title('AnnualIncome based on gender')\n",
        "plt.xlabel('Gender')\n",
        "plt.ylabel('Annual Income')\n",
        "plt.show()"
      ],
      "metadata": {
        "id": "lQfVlcGh6eDF"
      },
      "execution_count": null,
      "outputs": []
    },
    {
      "cell_type": "code",
      "source": [
        "#male and female count\n",
        "#0--Male\n",
        "#1--Female\n",
        "data.value_counts(data['Gender'])"
      ],
      "metadata": {
        "colab": {
          "base_uri": "https://localhost:8080/",
          "height": 176
        },
        "id": "RWp9y-0l6iEJ",
        "outputId": "0341865b-dd22-4b6c-841f-b5a42ca75a23"
      },
      "execution_count": 1,
      "outputs": [
        {
          "output_type": "error",
          "ename": "NameError",
          "evalue": "name 'data' is not defined",
          "traceback": [
            "\u001b[0;31m---------------------------------------------------------------------------\u001b[0m",
            "\u001b[0;31mNameError\u001b[0m                                 Traceback (most recent call last)",
            "\u001b[0;32m<ipython-input-1-2b1a526ed820>\u001b[0m in \u001b[0;36m<cell line: 4>\u001b[0;34m()\u001b[0m\n\u001b[1;32m      2\u001b[0m \u001b[0;31m#0--Male\u001b[0m\u001b[0;34m\u001b[0m\u001b[0;34m\u001b[0m\u001b[0m\n\u001b[1;32m      3\u001b[0m \u001b[0;31m#1--Female\u001b[0m\u001b[0;34m\u001b[0m\u001b[0;34m\u001b[0m\u001b[0m\n\u001b[0;32m----> 4\u001b[0;31m \u001b[0mdata\u001b[0m\u001b[0;34m.\u001b[0m\u001b[0mvalue_counts\u001b[0m\u001b[0;34m(\u001b[0m\u001b[0mdata\u001b[0m\u001b[0;34m[\u001b[0m\u001b[0;34m'Gender'\u001b[0m\u001b[0;34m]\u001b[0m\u001b[0;34m)\u001b[0m\u001b[0;34m\u001b[0m\u001b[0;34m\u001b[0m\u001b[0m\n\u001b[0m",
            "\u001b[0;31mNameError\u001b[0m: name 'data' is not defined"
          ]
        }
      ]
    },
    {
      "cell_type": "code",
      "source": [
        "plt.figure(figsize=(10, 6))\n",
        "sns.barplot(x='Gender', y='ProductCategory',data=data)\n",
        "plt.title('AnnualIncome based on gender')\n",
        "plt.xlabel('Gender')\n",
        "plt.ylabel('Annual Income')\n",
        "plt.show()"
      ],
      "metadata": {
        "id": "dGyz8wVI6xNb"
      },
      "execution_count": null,
      "outputs": []
    },
    {
      "cell_type": "code",
      "source": [
        "#acquiring data based on  type goods purchased\n",
        "class h:\n",
        "    def items():\n",
        "        print(\"0: Electronics, 1: Clothing, 2: Home Goods, 3: Beauty, 4: Sports\")\n",
        "        n=int(input())\n",
        "        if n==0:\n",
        "            print(data[data['ProductCategory']==0])\n",
        "        elif n==1:\n",
        "            print(data[data['ProductCategory']==1])\n",
        "        elif n==2:\n",
        "            print(data[data['ProductCategory']==2])\n",
        "        elif n==3:\n",
        "            print(data[data['ProductCategory']==3])\n",
        "        elif n==4:\n",
        "            print(data[data['ProductCategory']==4])\n",
        "        else:\n",
        "            print(\"Invalid input\")\n",
        "            print(\"please choose above numbers based on the product you are intrested in..Thank you!!\")\n",
        "\n",
        "    items()"
      ],
      "metadata": {
        "id": "t5FilJFe61Vi"
      },
      "execution_count": null,
      "outputs": []
    },
    {
      "cell_type": "code",
      "source": [
        "#loyal customers data\n",
        "class loyal:\n",
        "    def loyal_cust():\n",
        "        print(data[data['LoyaltyProgram']==1])\n",
        "    loyal_cust()"
      ],
      "metadata": {
        "id": "69CJIuBK65fJ"
      },
      "execution_count": null,
      "outputs": []
    },
    {
      "cell_type": "code",
      "source": [
        "plt.figure(figsize=(10, 6))\n",
        "sns.boxplot(x='NumberOfPurchases', y='DiscountsAvailed',data=data)\n",
        "plt.title('No.of discounts based on No.of purchases')\n",
        "plt.xlabel('NumberOfPurchases')\n",
        "plt.ylabel('Discounts Availble')\n",
        "plt.show()"
      ],
      "metadata": {
        "id": "2rt3tzYK65ib"
      },
      "execution_count": null,
      "outputs": []
    },
    {
      "cell_type": "code",
      "source": [
        "data.head()"
      ],
      "metadata": {
        "id": "FKmMiJ3m7CdP"
      },
      "execution_count": null,
      "outputs": []
    },
    {
      "cell_type": "code",
      "source": [
        "fig,table=plt.subplots()\n",
        "table.hist(data['PurchaseStatus'])"
      ],
      "metadata": {
        "id": "qz9wLjnM7G3F"
      },
      "execution_count": null,
      "outputs": []
    },
    {
      "cell_type": "code",
      "source": [
        "# Likelihood of the customer making a purchase\n",
        "class make_pur:\n",
        "    def purchase():\n",
        "        print(data[data['PurchaseStatus']==1])\n",
        "    purchase()"
      ],
      "metadata": {
        "id": "pdM3KpF47Kzd"
      },
      "execution_count": null,
      "outputs": []
    },
    {
      "cell_type": "code",
      "source": [
        "#countplot of Likelihood of the customer making a purchase\n",
        "plt.figure(figsize=(8, 6))\n",
        "sns.countplot(x='PurchaseStatus', data=data)\n",
        "plt.title('Count of Purchase Status')\n",
        "plt.xlabel('Purchase Status')\n",
        "plt.ylabel('Count')\n",
        "plt.show()"
      ],
      "metadata": {
        "id": "yJAt4r047OkV"
      },
      "execution_count": null,
      "outputs": []
    },
    {
      "cell_type": "code",
      "source": [],
      "metadata": {
        "id": "ZIrQok_57SNc"
      },
      "execution_count": null,
      "outputs": []
    }
  ]
}