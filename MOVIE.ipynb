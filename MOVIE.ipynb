{
  "nbformat": 4,
  "nbformat_minor": 0,
  "metadata": {
    "colab": {
      "provenance": [],
      "authorship_tag": "ABX9TyNNKaRp3KD/oc3YgxuKDjTQ",
      "include_colab_link": true
    },
    "kernelspec": {
      "name": "python3",
      "display_name": "Python 3"
    },
    "language_info": {
      "name": "python"
    }
  },
  "cells": [
    {
      "cell_type": "markdown",
      "metadata": {
        "id": "view-in-github",
        "colab_type": "text"
      },
      "source": [
        "<a href=\"https://colab.research.google.com/github/Vikkysai/Python/blob/main/MOVIE.ipynb\" target=\"_parent\"><img src=\"https://colab.research.google.com/assets/colab-badge.svg\" alt=\"Open In Colab\"/></a>"
      ]
    },
    {
      "cell_type": "code",
      "execution_count": null,
      "metadata": {
        "id": "Wk0wVweg1yg_"
      },
      "outputs": [],
      "source": [
        "import pandas as pd\n",
        "import numpy as np\n",
        "import matplotlib.pyplot as plt\n",
        "import seaborn as sns"
      ]
    },
    {
      "cell_type": "code",
      "source": [
        "#data loading\n",
        "set1=pd.read_csv('/Users/DURGAM SAI VIVEK/Downloads/archive 2/IMDb_Dataset.csv')\n",
        "set2=pd.read_csv('/Users/DURGAM SAI VIVEK/Downloads/archive 2/IMDb_Dataset_2.csv')\n",
        "set3=pd.read_csv('/Users/DURGAM SAI VIVEK/Downloads/archive 2/IMDb_Dataset_3.csv')"
      ],
      "metadata": {
        "id": "zaaV3FNh14Lm"
      },
      "execution_count": null,
      "outputs": []
    },
    {
      "cell_type": "code",
      "source": [
        "set1.isna().any()"
      ],
      "metadata": {
        "id": "YZFtgw5h2Nqe"
      },
      "execution_count": null,
      "outputs": []
    },
    {
      "cell_type": "code",
      "source": [
        "set2.isna().sum()"
      ],
      "metadata": {
        "id": "-6VaLzJl2Vle"
      },
      "execution_count": null,
      "outputs": []
    },
    {
      "cell_type": "code",
      "source": [
        "set3.isna().sum()"
      ],
      "metadata": {
        "id": "YXLdFlT_2Vtg"
      },
      "execution_count": null,
      "outputs": []
    },
    {
      "cell_type": "code",
      "source": [
        "set1.duplicated().sum()"
      ],
      "metadata": {
        "id": "12FKN9Ka2drq"
      },
      "execution_count": null,
      "outputs": []
    },
    {
      "cell_type": "code",
      "source": [
        "set1.drop_duplicates(inplace=True)"
      ],
      "metadata": {
        "id": "SPvC_9-22hoy"
      },
      "execution_count": null,
      "outputs": []
    },
    {
      "cell_type": "code",
      "source": [
        "set2.duplicated().sum()"
      ],
      "metadata": {
        "id": "yhnM9IK22lkE"
      },
      "execution_count": null,
      "outputs": []
    },
    {
      "cell_type": "code",
      "source": [
        "set2.drop_duplicates(inplace=True)"
      ],
      "metadata": {
        "id": "7NSFKazA2lsL"
      },
      "execution_count": null,
      "outputs": []
    },
    {
      "cell_type": "code",
      "source": [
        "set3.duplicated().sum()"
      ],
      "metadata": {
        "id": "CIQSFJC92l3J"
      },
      "execution_count": null,
      "outputs": []
    },
    {
      "cell_type": "code",
      "source": [
        "set1.info()"
      ],
      "metadata": {
        "id": "0ilvI3t82xe6"
      },
      "execution_count": null,
      "outputs": []
    },
    {
      "cell_type": "code",
      "source": [
        "set2.info()"
      ],
      "metadata": {
        "id": "brldhPFh2xm4"
      },
      "execution_count": null,
      "outputs": []
    },
    {
      "cell_type": "code",
      "source": [
        "set3.info()"
      ],
      "metadata": {
        "id": "5Zx_m_p-2xw5"
      },
      "execution_count": null,
      "outputs": []
    },
    {
      "cell_type": "code",
      "source": [
        "set1.describe()"
      ],
      "metadata": {
        "id": "SC3422Rd2x7n"
      },
      "execution_count": null,
      "outputs": []
    },
    {
      "cell_type": "code",
      "source": [
        "set2.describe()"
      ],
      "metadata": {
        "id": "_PsxQRbi3I4a"
      },
      "execution_count": null,
      "outputs": []
    },
    {
      "cell_type": "code",
      "source": [
        "set3.describe()"
      ],
      "metadata": {
        "id": "xywuZKlP3JB1"
      },
      "execution_count": null,
      "outputs": []
    },
    {
      "cell_type": "code",
      "source": [
        "set2.columns"
      ],
      "metadata": {
        "id": "-tFpidA_3JME"
      },
      "execution_count": null,
      "outputs": []
    },
    {
      "cell_type": "code",
      "source": [
        "set2.head()"
      ],
      "metadata": {
        "id": "UXcOIzBK3JWH"
      },
      "execution_count": null,
      "outputs": []
    },
    {
      "cell_type": "code",
      "source": [
        "#count of every column in dataset\n",
        "for column in set1:\n",
        "    plt.figure(figsize=(20, 5))\n",
        "    sns.countplot(x=column,data=set1)\n",
        "    plt.title(f'Distribution of {column}')\n",
        "    plt.show()"
      ],
      "metadata": {
        "id": "WU3TzCQK3f1W"
      },
      "execution_count": null,
      "outputs": []
    },
    {
      "cell_type": "code",
      "source": [
        "for column in set2:\n",
        "    plt.figure(figsize=(20, 5))\n",
        "    sns.countplot(x=column,data=set2)\n",
        "    plt.title(f'Distribution of {column}')\n",
        "    plt.show()"
      ],
      "metadata": {
        "id": "iDWTaQ_x3j8Q"
      },
      "execution_count": null,
      "outputs": []
    },
    {
      "cell_type": "code",
      "source": [
        "for column in set3:\n",
        "    plt.figure(figsize=(20, 5))\n",
        "    sns.countplot(x=column,data=set3)\n",
        "    plt.title(f'Distribution of {column}')\n",
        "    plt.show()\n"
      ],
      "metadata": {
        "id": "3bd1PySb3kF1"
      },
      "execution_count": null,
      "outputs": []
    },
    {
      "cell_type": "code",
      "source": [
        "#details of a given movie name\n",
        "n=input(\"Enter movie name\")\n",
        "movie=set2[set2[\"Title\"].str.contains(n,case=False,na=False)]\n",
        "if not movie.empty:\n",
        "    for _, row in movie.iterrows():\n",
        "        print(f\"Title: {row['Title']}\")\n",
        "        print(f\"Year: {row['Year']}\")\n",
        "        print(f\"Rating: {row['IMDb Rating']}\")\n",
        "        print(f\"Genres: {row['Genre']}\")\n",
        "        print(f\"Director: {row['Director']}\")\n",
        "else:\n",
        "    print(\"Movie not found.\")"
      ],
      "metadata": {
        "id": "w3aOyCSJ3kPS"
      },
      "execution_count": null,
      "outputs": []
    },
    {
      "cell_type": "code",
      "source": [
        "#data of movies relesed in specific year\n",
        "class year:\n",
        "    def info_year(n):\n",
        "        year=set2[set2['Year']==n]\n",
        "        if not year.empty:\n",
        "            for _, row in year.iterrows():\n",
        "                print(f\"Title: {row['Title']}\")\n",
        "                print(f\"Year: {row['Year']}\")\n",
        "                print(f\"Rating: {row['IMDb Rating']}\")\n",
        "                print(f\"Genres: {row['Genre']}\")\n",
        "                print(f\"Director: {row['Director']}\")\n",
        "        else:\n",
        "            print(\"No movies found for the specified year.\")\n",
        "    n=int(input())\n",
        "    info_year(n)\n"
      ],
      "metadata": {
        "id": "cktuRebb36x0"
      },
      "execution_count": null,
      "outputs": []
    },
    {
      "cell_type": "code",
      "source": [
        "#acquiring data based on Genre\n",
        "class genre:\n",
        "    def genre_(n):\n",
        "        genre=set2[set2['Genre'].str.contains(n,case=False,na=False)]\n",
        "        if not genre.empty:\n",
        "            for _, row in genre.iterrows():\n",
        "                print(f\"title:{row['Title']}\")\n",
        "                print(f\"year:{row['Year']}\")\n",
        "                print(f\"Rating:{row['IMDb Rating']}\")\n",
        "                print(f\"Director: {row['Director']}\")\n",
        "                print(f\"Genre: {row['Genre']}\")\n",
        "        else:\n",
        "            print(\"Invalid input\")\n",
        "    n=input('enter Genre: ')\n",
        "    genre_(n)"
      ],
      "metadata": {
        "id": "bjE9NwBu3_se"
      },
      "execution_count": null,
      "outputs": []
    },
    {
      "cell_type": "code",
      "source": [
        "#acquiring data based on director\n",
        "class director:\n",
        "    def director(n):\n",
        "        director=set2[set2['Director'].str.contains(n,case=False,na=False)]\n",
        "        if not director.empty:\n",
        "            for _, row in director.iterrows():\n",
        "                print(f\"title:{row['Title']}\")\n",
        "                print(f\"year:{row['Year']}\")\n",
        "                print(f\"Rating:{row['IMDb Rating']}\")\n",
        "                print(f\"Director: {row['Director']}\")\n",
        "                print(f\"Genre: {row['Genre']}\")\n",
        "        else:\n",
        "            print(\"Invalid input\")\n",
        "    n=input('enter director name: ')\n",
        "    director(n)"
      ],
      "metadata": {
        "id": "Cu5dyaIG4FOx"
      },
      "execution_count": null,
      "outputs": []
    },
    {
      "cell_type": "code",
      "source": [
        "set2.head()"
      ],
      "metadata": {
        "id": "1PPMDWsr4TYd"
      },
      "execution_count": null,
      "outputs": []
    },
    {
      "cell_type": "code",
      "source": [
        "#acquiring data based on cast\n",
        "class cast:\n",
        "    def actor(n):\n",
        "        actor=set2[set2['Star Cast'].str.contains(n,case=False,na=False)]\n",
        "        if not actor.empty:\n",
        "            for _, row in actor.iterrows():\n",
        "                print(f\"cast:{row['Star Cast']}\")\n",
        "                print(f\"title:{row['Title']}\")\n",
        "                print(f\"year:{row['Year']}\")\n",
        "                print(f\"Rating:{row['IMDb Rating']}\")\n",
        "                print(f\"Director: {row['Director']}\")\n",
        "                print(f\"Genre: {row['Genre']}\")\n",
        "        else:\n",
        "            print(\"Invalid input\")\n",
        "    n=input('enter actor name: ')\n",
        "    actor(n)"
      ],
      "metadata": {
        "id": "RWKDeQ-a4XgT"
      },
      "execution_count": null,
      "outputs": []
    },
    {
      "cell_type": "code",
      "source": [],
      "metadata": {
        "id": "aLv-ziia4bzV"
      },
      "execution_count": null,
      "outputs": []
    }
  ]
}