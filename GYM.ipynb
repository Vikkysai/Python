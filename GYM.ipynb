{
  "nbformat": 4,
  "nbformat_minor": 0,
  "metadata": {
    "colab": {
      "provenance": [],
      "authorship_tag": "ABX9TyOoLtCTcv2xY4/lWlWd2H2a",
      "include_colab_link": true
    },
    "kernelspec": {
      "name": "python3",
      "display_name": "Python 3"
    },
    "language_info": {
      "name": "python"
    }
  },
  "cells": [
    {
      "cell_type": "markdown",
      "metadata": {
        "id": "view-in-github",
        "colab_type": "text"
      },
      "source": [
        "<a href=\"https://colab.research.google.com/github/Vikkysai/Python/blob/main/GYM.ipynb\" target=\"_parent\"><img src=\"https://colab.research.google.com/assets/colab-badge.svg\" alt=\"Open In Colab\"/></a>"
      ]
    },
    {
      "cell_type": "code",
      "execution_count": null,
      "metadata": {
        "id": "kQu_PXAssBQ3"
      },
      "outputs": [],
      "source": [
        "import numpy as np\n",
        "import pandas as pd\n",
        "import matplotlib.pyplot as plt\n",
        "import seaborn as sns"
      ]
    },
    {
      "cell_type": "code",
      "source": [
        "#Step-2: Loading the data\n",
        "data = pd.read_csv(r\"C:\\Users\\Durgam sai vivek\\Downloads\\archive\\powerlifting_dataset.csv\")"
      ],
      "metadata": {
        "colab": {
          "base_uri": "https://localhost:8080/",
          "height": 158
        },
        "id": "A9hT_9TctWpG",
        "outputId": "75e7751b-d566-4a61-9304-b99a815ca473"
      },
      "execution_count": 2,
      "outputs": [
        {
          "output_type": "error",
          "ename": "NameError",
          "evalue": "name 'pd' is not defined",
          "traceback": [
            "\u001b[0;31m---------------------------------------------------------------------------\u001b[0m",
            "\u001b[0;31mNameError\u001b[0m                                 Traceback (most recent call last)",
            "\u001b[0;32m<ipython-input-2-1241945b7767>\u001b[0m in \u001b[0;36m<cell line: 2>\u001b[0;34m()\u001b[0m\n\u001b[1;32m      1\u001b[0m \u001b[0;31m#Step-2: Loading the data\u001b[0m\u001b[0;34m\u001b[0m\u001b[0;34m\u001b[0m\u001b[0m\n\u001b[0;32m----> 2\u001b[0;31m \u001b[0mdata\u001b[0m \u001b[0;34m=\u001b[0m \u001b[0mpd\u001b[0m\u001b[0;34m.\u001b[0m\u001b[0mread_csv\u001b[0m\u001b[0;34m(\u001b[0m\u001b[0;34mr\"C:\\Users\\Durgam sai vivek\\Downloads\\archive\\powerlifting_dataset.csv\"\u001b[0m\u001b[0;34m)\u001b[0m\u001b[0;34m\u001b[0m\u001b[0;34m\u001b[0m\u001b[0m\n\u001b[0m",
            "\u001b[0;31mNameError\u001b[0m: name 'pd' is not defined"
          ]
        }
      ]
    },
    {
      "cell_type": "code",
      "source": [
        "data.head() # we get the first SIX values"
      ],
      "metadata": {
        "id": "nhrZFY5nvEBM"
      },
      "execution_count": null,
      "outputs": []
    },
    {
      "cell_type": "code",
      "source": [
        "data.tail() # we get the last SIX values"
      ],
      "metadata": {
        "id": "NnebEgv0vTNZ"
      },
      "execution_count": null,
      "outputs": []
    },
    {
      "cell_type": "code",
      "source": [
        "data.shape # we get the output, containing the data shape, as : (number of rows, number of columns)"
      ],
      "metadata": {
        "id": "dIRvtdWJvZA_"
      },
      "execution_count": null,
      "outputs": []
    },
    {
      "cell_type": "code",
      "source": [
        "data.info()#we get the data information"
      ],
      "metadata": {
        "id": "JSnY7IQjvhPh"
      },
      "execution_count": null,
      "outputs": []
    },
    {
      "cell_type": "code",
      "source": [
        "data.describe()#we get the statistical information"
      ],
      "metadata": {
        "id": "s1Q6I-3Nvl7o"
      },
      "execution_count": null,
      "outputs": []
    },
    {
      "cell_type": "code",
      "source": [
        "data.isnull()# we get the null values"
      ],
      "metadata": {
        "id": "Iyy7F9bjvqJd"
      },
      "execution_count": null,
      "outputs": []
    },
    {
      "cell_type": "code",
      "source": [
        "data.isna().sum()#we get the null values as a sum, for better analysis\n",
        "#we can use 'isnull()' also, they both possess the same output"
      ],
      "metadata": {
        "id": "P-hrQanIvvbb"
      },
      "execution_count": null,
      "outputs": []
    },
    {
      "cell_type": "code",
      "source": [
        "# Step-4 : We will now analyze the data\n",
        "#1. Getting histogram based on the first 8 values and last 8 values\n",
        "print(data.head(8).hist())\n",
        "print(data.tail(8).hist())"
      ],
      "metadata": {
        "id": "bWwjKly9v1jo"
      },
      "execution_count": null,
      "outputs": []
    },
    {
      "cell_type": "code",
      "source": [
        "#2. Getting blox plots for lifter names based on the lift types\n",
        "print(sns.boxplot(x = 'Lift Type', y = 'Lifter Name', data = data ))"
      ],
      "metadata": {
        "id": "m4zF0yXkwZ3B"
      },
      "execution_count": null,
      "outputs": []
    },
    {
      "cell_type": "code",
      "source": [
        "#Step-5 : Visualizing the data\n",
        "#Pair plots\n",
        "print(sns.pairplot(data))"
      ],
      "metadata": {
        "id": "7HaAuH-Vwhvy"
      },
      "execution_count": null,
      "outputs": []
    },
    {
      "cell_type": "code",
      "source": [
        "#Pie charts\n",
        "data['Lift Type'].value_counts().plot.pie(autopct='%1.1f%%', startangle=90)"
      ],
      "metadata": {
        "id": "-SYPbnzCwmqD"
      },
      "execution_count": null,
      "outputs": []
    },
    {
      "cell_type": "code",
      "source": [
        "#Now, moving on to the tasks"
      ],
      "metadata": {
        "id": "IkGrhFilwvcu"
      },
      "execution_count": null,
      "outputs": []
    },
    {
      "cell_type": "code",
      "source": [
        "#TASK - 1: Top 5 names based on top top lifted weights\n",
        "highest_weight = data['Amount Lifted (kg)'].max()\n",
        "# Print the highest weight\n",
        "print(f\"The highest weight lifted is: {highest_weight} kg\")\n",
        "top_5 = data.sort_values(by='Amount Lifted (kg)', ascending=False).head(5)\n",
        "# Select only the 'Name' and 'Amount Lifted (kg)' columns\n",
        "result = top_5[['Lifter Name', 'Amount Lifted (kg)']]\n",
        "print(result)"
      ],
      "metadata": {
        "id": "04Y9tl7cwvgA"
      },
      "execution_count": null,
      "outputs": []
    },
    {
      "cell_type": "code",
      "source": [
        "#TASK - 2: Count of lift types with names\n",
        "counts=print(data['Lift Type'].value_counts())"
      ],
      "metadata": {
        "id": "3a-rWf2ZxEtr"
      },
      "execution_count": null,
      "outputs": []
    },
    {
      "cell_type": "code",
      "source": [
        "#TASK - 3: Printing the Lifter names of age greater than 50 and box plotting the related data\n",
        "older_lifters = data[data['Age'] > 50]\n",
        "print(\"Lifter names with age greater than 50:\")\n",
        "print(older_lifters['Lifter Name'])\n",
        "print(sns.boxplot(older_lifters))\n",
        "plt.title('Box Plot of age for Lifters Older Than 50')\n",
        "plt.show()"
      ],
      "metadata": {
        "id": "_DVIsZRVxJpl"
      },
      "execution_count": null,
      "outputs": []
    },
    {
      "cell_type": "code",
      "source": [
        "#TASK - 4 : Get the names of lifters whose age is greater than 100\n",
        "# Ensure 'Weight Class' is numeric (if it's not already)\n",
        "data['Weight Class'] = pd.to_numeric(data['Weight Class'], errors='coerce')\n",
        "# Filter lifters with weight greater than 100\n",
        "w_lifters = data[data['Weight Class'] > 100]\n",
        "# Check if there are any lifters with weight greater than 100 and print their names\n",
        "if not w_lifters.empty:\n",
        "    print(\"Lifter names with weight greater than 100:\")\n",
        "    print(w_lifters['Lifter Name'])\n",
        "else:\n",
        "    print(\"No lifters found with weight greater than 100.\")"
      ],
      "metadata": {
        "id": "Hl7Psu6cxORy"
      },
      "execution_count": null,
      "outputs": []
    },
    {
      "cell_type": "code",
      "source": [
        "#TASK - 5 : Get the names of the people who did only deadlifts\n",
        "deadlift_lifters = data[data['Lift Type'] == 'Deadlift']\n",
        "# Get the names of these lifters\n",
        "deadlift_names = deadlift_lifters['Lifter Name'].unique()\n",
        "# Print the names\n",
        "print(\"Lifter names who performed only deadlifts:\")\n",
        "print(deadlift_names)"
      ],
      "metadata": {
        "id": "tVUozZkgxUf-"
      },
      "execution_count": null,
      "outputs": []
    }
  ]
}