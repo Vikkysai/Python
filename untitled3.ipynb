{
  "nbformat": 4,
  "nbformat_minor": 0,
  "metadata": {
    "colab": {
      "provenance": [],
      "authorship_tag": "ABX9TyMXwss5+UiF1VCQtEO0mMLi",
      "include_colab_link": true
    },
    "kernelspec": {
      "name": "python3",
      "display_name": "Python 3"
    },
    "language_info": {
      "name": "python"
    }
  },
  "cells": [
    {
      "cell_type": "markdown",
      "metadata": {
        "id": "view-in-github",
        "colab_type": "text"
      },
      "source": [
        "<a href=\"https://colab.research.google.com/github/Vikkysai/Python/blob/main/untitled3.ipynb\" target=\"_parent\"><img src=\"https://colab.research.google.com/assets/colab-badge.svg\" alt=\"Open In Colab\"/></a>"
      ]
    },
    {
      "cell_type": "code",
      "source": [
        "import numpy as np"
      ],
      "metadata": {
        "id": "4uExC9UzU3ef"
      },
      "execution_count": null,
      "outputs": []
    },
    {
      "cell_type": "code",
      "execution_count": null,
      "metadata": {
        "colab": {
          "base_uri": "https://localhost:8080/"
        },
        "id": "NVg4BNwvRAY9",
        "outputId": "88a3f31e-33af-4332-f5ec-5dd90f03fff6"
      },
      "outputs": [
        {
          "output_type": "stream",
          "name": "stdout",
          "text": [
            "Requirement already satisfied: Numpy in /usr/local/lib/python3.10/dist-packages (1.26.4)\n",
            "[1 2 3 4]\n",
            "[[ 5.  6.  7.  8.]\n",
            " [ 9.  8. 10. 11.]]\n"
          ]
        }
      ],
      "source": [
        "#Numpy\n",
        "!pip install Numpy\n",
        "import numpy as np\n",
        "#creating numpy\n",
        "a=np.array([1,2,3,4])\n",
        "b=np.array([(5,6,7,8),(9,8,10,11)],dtype=float)\n",
        "print(a)\n",
        "print(b)\n"
      ]
    },
    {
      "cell_type": "code",
      "source": [
        "d=np.arange(2,56,5)\n",
        "print(d)"
      ],
      "metadata": {
        "colab": {
          "base_uri": "https://localhost:8080/"
        },
        "id": "9Kc7QoApUmKd",
        "outputId": "dce8fcc7-0330-4f36-dd32-2c6062118543"
      },
      "execution_count": null,
      "outputs": [
        {
          "output_type": "stream",
          "name": "stdout",
          "text": [
            "[ 2  7 12 17 22 27 32 37 42 47 52]\n"
          ]
        }
      ]
    },
    {
      "cell_type": "code",
      "source": [
        "e=np.full((6),52)\n",
        "print(e)"
      ],
      "metadata": {
        "colab": {
          "base_uri": "https://localhost:8080/"
        },
        "id": "XN2ddJuuVWvp",
        "outputId": "c28dd328-0922-4fe5-c258-138b7f2d6ea8"
      },
      "execution_count": null,
      "outputs": [
        {
          "output_type": "stream",
          "name": "stdout",
          "text": [
            "[52 52 52 52 52 52]\n"
          ]
        }
      ]
    },
    {
      "cell_type": "code",
      "source": [
        "np.linspace(0,50,30)"
      ],
      "metadata": {
        "colab": {
          "base_uri": "https://localhost:8080/"
        },
        "id": "WzXJ4XPMV6GB",
        "outputId": "490bab14-2731-4b22-b2e7-926aec7f1cc7"
      },
      "execution_count": null,
      "outputs": [
        {
          "output_type": "execute_result",
          "data": {
            "text/plain": [
              "array([ 0.        ,  1.72413793,  3.44827586,  5.17241379,  6.89655172,\n",
              "        8.62068966, 10.34482759, 12.06896552, 13.79310345, 15.51724138,\n",
              "       17.24137931, 18.96551724, 20.68965517, 22.4137931 , 24.13793103,\n",
              "       25.86206897, 27.5862069 , 29.31034483, 31.03448276, 32.75862069,\n",
              "       34.48275862, 36.20689655, 37.93103448, 39.65517241, 41.37931034,\n",
              "       43.10344828, 44.82758621, 46.55172414, 48.27586207, 50.        ])"
            ]
          },
          "metadata": {},
          "execution_count": 7
        }
      ]
    },
    {
      "cell_type": "code",
      "source": [
        "f=np.full((5,6),200)\n",
        "print(f)\n",
        "print(f.ndim)"
      ],
      "metadata": {
        "colab": {
          "base_uri": "https://localhost:8080/"
        },
        "id": "5kgSw280WSBG",
        "outputId": "7d0c3f9a-2bce-43be-d29a-25537a40931a"
      },
      "execution_count": null,
      "outputs": [
        {
          "output_type": "stream",
          "name": "stdout",
          "text": [
            "[[200 200 200 200 200 200]\n",
            " [200 200 200 200 200 200]\n",
            " [200 200 200 200 200 200]\n",
            " [200 200 200 200 200 200]\n",
            " [200 200 200 200 200 200]]\n",
            "2\n"
          ]
        }
      ]
    },
    {
      "cell_type": "code",
      "source": [],
      "metadata": {
        "id": "K9d3o__GXApb"
      },
      "execution_count": null,
      "outputs": []
    }
  ]
}