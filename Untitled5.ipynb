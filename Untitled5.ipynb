{
  "nbformat": 4,
  "nbformat_minor": 0,
  "metadata": {
    "colab": {
      "provenance": [],
      "authorship_tag": "ABX9TyPDVUEOpLdgk+LLrhrlNkT1",
      "include_colab_link": true
    },
    "kernelspec": {
      "name": "python3",
      "display_name": "Python 3"
    },
    "language_info": {
      "name": "python"
    }
  },
  "cells": [
    {
      "cell_type": "markdown",
      "metadata": {
        "id": "view-in-github",
        "colab_type": "text"
      },
      "source": [
        "<a href=\"https://colab.research.google.com/github/Vikkysai/Python/blob/main/Untitled5.ipynb\" target=\"_parent\"><img src=\"https://colab.research.google.com/assets/colab-badge.svg\" alt=\"Open In Colab\"/></a>"
      ]
    },
    {
      "cell_type": "code",
      "execution_count": null,
      "metadata": {
        "id": "_zJP25o_ZmtS"
      },
      "outputs": [],
      "source": []
    },
    {
      "cell_type": "code",
      "execution_count": 1,
      "metadata": {
        "id": "asXA3ld1aj82"
      },
      "outputs": [],
      "source": [
        "import pandas as pd\n",
        "import numpy as np\n",
        "import matplotlib.pyplot as plt\n",
        "import seaborn as sns"
      ]
    },
    {
      "cell_type": "code",
      "source": [
        "#data loading\n",
        "data=pd.read_csv('\\Users\\Durgam sai vivek\\Downloads\\archive (1).zip')"
      ],
      "metadata": {
        "colab": {
          "base_uri": "https://localhost:8080/",
          "height": 106
        },
        "id": "3WK5FtqtbNRP",
        "outputId": "a4ae7def-db97-47e6-9159-7069a35383c6"
      },
      "execution_count": 9,
      "outputs": [
        {
          "output_type": "error",
          "ename": "SyntaxError",
          "evalue": "(unicode error) 'unicodeescape' codec can't decode bytes in position 0-1: truncated \\UXXXXXXXX escape (<ipython-input-9-4de451b8b1ac>, line 2)",
          "traceback": [
            "\u001b[0;36m  File \u001b[0;32m\"<ipython-input-9-4de451b8b1ac>\"\u001b[0;36m, line \u001b[0;32m2\u001b[0m\n\u001b[0;31m    data=pd.read_csv('\\Users\\Durgam sai vivek\\Downloads\\archive (1).zip')\u001b[0m\n\u001b[0m                                                                        ^\u001b[0m\n\u001b[0;31mSyntaxError\u001b[0m\u001b[0;31m:\u001b[0m (unicode error) 'unicodeescape' codec can't decode bytes in position 0-1: truncated \\UXXXXXXXX escape\n"
          ]
        }
      ]
    },
    {
      "cell_type": "code",
      "source": [],
      "metadata": {
        "id": "NQIsAC-Xhxsu"
      },
      "execution_count": null,
      "outputs": []
    },
    {
      "cell_type": "code",
      "source": [
        "data.isnull().sum()"
      ],
      "metadata": {
        "colab": {
          "base_uri": "https://localhost:8080/",
          "height": 141
        },
        "id": "VLGYQpkxb6Nw",
        "outputId": "30a384c6-7e4e-420e-a1c2-09f88be925ac"
      },
      "execution_count": 10,
      "outputs": [
        {
          "output_type": "error",
          "ename": "AttributeError",
          "evalue": "'function' object has no attribute 'isnull'",
          "traceback": [
            "\u001b[0;31m---------------------------------------------------------------------------\u001b[0m",
            "\u001b[0;31mAttributeError\u001b[0m                            Traceback (most recent call last)",
            "\u001b[0;32m<ipython-input-10-2962204f287d>\u001b[0m in \u001b[0;36m<cell line: 1>\u001b[0;34m()\u001b[0m\n\u001b[0;32m----> 1\u001b[0;31m \u001b[0mdata\u001b[0m\u001b[0;34m.\u001b[0m\u001b[0misnull\u001b[0m\u001b[0;34m(\u001b[0m\u001b[0;34m)\u001b[0m\u001b[0;34m.\u001b[0m\u001b[0msum\u001b[0m\u001b[0;34m(\u001b[0m\u001b[0;34m)\u001b[0m\u001b[0;34m\u001b[0m\u001b[0;34m\u001b[0m\u001b[0m\n\u001b[0m",
            "\u001b[0;31mAttributeError\u001b[0m: 'function' object has no attribute 'isnull'"
          ]
        }
      ]
    },
    {
      "cell_type": "markdown",
      "source": [
        "data.duplicated().sum()"
      ],
      "metadata": {
        "id": "oRkk-44djStp"
      }
    },
    {
      "cell_type": "code",
      "source": [
        "data.duplicated().sum()"
      ],
      "metadata": {
        "colab": {
          "base_uri": "https://localhost:8080/",
          "height": 141
        },
        "id": "3fu6kkCBjkSM",
        "outputId": "e4fcc84c-6cd5-47c3-e95a-2e9bdd09a209"
      },
      "execution_count": 11,
      "outputs": [
        {
          "output_type": "error",
          "ename": "AttributeError",
          "evalue": "'function' object has no attribute 'duplicated'",
          "traceback": [
            "\u001b[0;31m---------------------------------------------------------------------------\u001b[0m",
            "\u001b[0;31mAttributeError\u001b[0m                            Traceback (most recent call last)",
            "\u001b[0;32m<ipython-input-11-f4ed905113c9>\u001b[0m in \u001b[0;36m<cell line: 1>\u001b[0;34m()\u001b[0m\n\u001b[0;32m----> 1\u001b[0;31m \u001b[0mdata\u001b[0m\u001b[0;34m.\u001b[0m\u001b[0mduplicated\u001b[0m\u001b[0;34m(\u001b[0m\u001b[0;34m)\u001b[0m\u001b[0;34m.\u001b[0m\u001b[0msum\u001b[0m\u001b[0;34m(\u001b[0m\u001b[0;34m)\u001b[0m\u001b[0;34m\u001b[0m\u001b[0;34m\u001b[0m\u001b[0m\n\u001b[0m",
            "\u001b[0;31mAttributeError\u001b[0m: 'function' object has no attribute 'duplicated'"
          ]
        }
      ]
    },
    {
      "cell_type": "code",
      "source": [
        "data.info()"
      ],
      "metadata": {
        "id": "AEMgFfOvjqac"
      },
      "execution_count": null,
      "outputs": []
    },
    {
      "cell_type": "code",
      "source": [
        "data.describe()"
      ],
      "metadata": {
        "id": "_HrmIogYj6kH"
      },
      "execution_count": null,
      "outputs": []
    },
    {
      "cell_type": "code",
      "source": [
        "data.columns"
      ],
      "metadata": {
        "id": "CkEgBwT-kENz"
      },
      "execution_count": null,
      "outputs": []
    },
    {
      "cell_type": "code",
      "source": [
        "data.head()"
      ],
      "metadata": {
        "id": "HWDF6ksMkMLZ"
      },
      "execution_count": null,
      "outputs": []
    },
    {
      "cell_type": "code",
      "source": [
        "# Compute basic statistics of customer spending avg amount\n",
        "mean_values =data[\"AverageSpend\"].mean()\n",
        "sum_values = data[\"AverageSpend\"].sum()\n",
        "range_values = data[\"AverageSpend\"].max() - data[\"AverageSpend\"].min()\n",
        "\n",
        "print('Mean values:\\n', mean_values)\n",
        "print('Sum values:\\n', sum_values)\n",
        "print('Range of values:\\n', range_values)"
      ],
      "metadata": {
        "id": "DQ8IOr5JkSq5"
      },
      "execution_count": null,
      "outputs": []
    },
    {
      "cell_type": "code",
      "source": [
        "#count of every column in dataset\n",
        "for column in data:\n",
        "    plt.figure(figsize=(14, 5))\n",
        "    sns.countplot(x=column,data=data)\n",
        "    plt.title(f'Distribution of {column}')\n",
        "    plt.show()"
      ],
      "metadata": {
        "id": "abdvarYvkewu"
      },
      "execution_count": null,
      "outputs": []
    },
    {
      "cell_type": "code",
      "source": [
        "data.head()"
      ],
      "metadata": {
        "id": "i8ngJMzxkpCf"
      },
      "execution_count": null,
      "outputs": []
    },
    {
      "cell_type": "code",
      "source": [
        "data['VisitFrequency'].unique()"
      ],
      "metadata": {
        "id": "rGBUY5TXkwjK"
      },
      "execution_count": null,
      "outputs": []
    },
    {
      "cell_type": "code",
      "source": [
        "# Age Distribution of customers using histogram\n",
        "\n",
        "plt.figure(figsize=(10, 6))\n",
        "plt.hist(data['Age'], bins=20, edgecolor='black')\n",
        "plt.title('Age Distribution of Customers')\n",
        "plt.xlabel('Age')\n",
        "plt.ylabel('Frequency')\n",
        "plt.grid(True)\n",
        "plt.show()"
      ],
      "metadata": {
        "id": "1Pxb3DIMk2EP"
      },
      "execution_count": null,
      "outputs": []
    },
    {
      "cell_type": "code",
      "source": [
        "#Customer's avg rating as per occasion\n",
        "\n",
        "service_rating_by_occasion = data.groupby('DiningOccasion')['ServiceRating'].mean()\n",
        "\n",
        "plt.figure(figsize=(10, 6))\n",
        "service_rating_by_occasion.plot(kind='bar')\n",
        "plt.title('Service Rating by Dining Occasion')\n",
        "plt.xlabel('Dining Occasion')\n",
        "plt.ylabel('Average Service Rating')\n",
        "plt.xticks(rotation=90)\n",
        "plt.grid(axis='y')\n",
        "plt.show()"
      ],
      "metadata": {
        "id": "Pyz1BbjDk-LV"
      },
      "execution_count": null,
      "outputs": []
    },
    {
      "cell_type": "code",
      "source": [
        "# Calculate proportion of high satisfaction in each age group\n",
        "high_satisfaction_by_age_group = data.groupby('Age')['HighSatisfaction'].mean().head(10)\n",
        "\n",
        "plt.figure(figsize=(10, 6))\n",
        "high_satisfaction_by_age_group.plot(kind='bar')\n",
        "plt.title('High Satisfaction Proportion by Age Group')\n",
        "plt.xlabel('Age Group')\n",
        "plt.ylabel('Proportion of High Satisfaction')\n",
        "plt.xticks(rotation=0)\n",
        "plt.grid(axis='y')\n",
        "plt.show()\n"
      ],
      "metadata": {
        "id": "oxGfWjLJlDKK"
      },
      "execution_count": null,
      "outputs": []
    },
    {
      "cell_type": "code",
      "source": [
        "#correlation between service rating and food rating?\n",
        "plt.figure(figsize=(8, 6))\n",
        "plt.scatter(data['ServiceRating'], data['FoodRating'], alpha=0.5)\n",
        "plt.title('Correlation between Service Rating and Food Rating')\n",
        "plt.xlabel('Service Rating')\n",
        "plt.ylabel('Food Rating')\n",
        "plt.grid(True)\n",
        "plt.tight_layout()\n",
        "plt.show()\n",
        "\n",
        "correlation = data['ServiceRating'].corr(data['FoodRating'])\n",
        "print(f\"Correlation between Service Rating and Food Rating: {correlation:.2f}\")\n"
      ],
      "metadata": {
        "id": "b66RYbXWlNAC"
      },
      "execution_count": null,
      "outputs": []
    },
    {
      "cell_type": "code",
      "source": [
        "#meal timing has the highest average service rating\n",
        "service_rating_by_meal_type = data.groupby('TimeOfVisit')['ServiceRating'].mean()\n",
        "\n",
        "plt.figure(figsize=(10, 6))\n",
        "service_rating_by_meal_type.plot(kind='bar')\n",
        "plt.title('Average Service Rating by Meal Type')\n",
        "plt.xlabel('Meal Type')\n",
        "plt.ylabel('Average Service Rating')\n",
        "plt.xticks(rotation=45)\n",
        "plt.grid(axis='y')\n",
        "plt.show()"
      ],
      "metadata": {
        "id": "FIUdYGEplSv2"
      },
      "execution_count": null,
      "outputs": []
    },
    {
      "cell_type": "code",
      "source": [
        "#average spend by group size\n",
        "avg_spend_by_group_size = data.groupby('GroupSize')['AverageSpend'].mean()\n",
        "\n",
        "plt.figure(figsize=(10, 6))\n",
        "avg_spend_by_group_size.plot(kind='bar')\n",
        "plt.title('Average Spend by Group Size')\n",
        "plt.xlabel('Group Size')\n",
        "plt.ylabel('Average Spend (INR)')\n",
        "plt.xticks(rotation=0)\n",
        "plt.grid(axis='y')\n",
        "plt.show()"
      ],
      "metadata": {
        "id": "zY8EKGkdlcw9"
      },
      "execution_count": null,
      "outputs": []
    },
    {
      "cell_type": "markdown",
      "source": [],
      "metadata": {
        "id": "fzT3IhaOjPEX"
      }
    }
  ]
}