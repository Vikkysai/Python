{
  "nbformat": 4,
  "nbformat_minor": 0,
  "metadata": {
    "colab": {
      "provenance": [],
      "authorship_tag": "ABX9TyOESApmLA9DEWylkbp/R7hA",
      "include_colab_link": true
    },
    "kernelspec": {
      "name": "python3",
      "display_name": "Python 3"
    },
    "language_info": {
      "name": "python"
    }
  },
  "cells": [
    {
      "cell_type": "markdown",
      "metadata": {
        "id": "view-in-github",
        "colab_type": "text"
      },
      "source": [
        "<a href=\"https://colab.research.google.com/github/Vikkysai/Python/blob/main/CRIME_DATA.ipynb\" target=\"_parent\"><img src=\"https://colab.research.google.com/assets/colab-badge.svg\" alt=\"Open In Colab\"/></a>"
      ]
    },
    {
      "cell_type": "code",
      "execution_count": null,
      "metadata": {
        "id": "mQz4SYPvxqkk"
      },
      "outputs": [],
      "source": [
        "import numpy as np\n",
        "import pandas as pd\n",
        "import matplotlib.pyplot as plt\n",
        "import seaborn as sns"
      ]
    },
    {
      "cell_type": "code",
      "source": [
        "#Step-2: Loading the data\n",
        "data = pd.read_csv(r\"C:\\Users\\Durgam saivivek\\Downloads\\archive5\\crime_data.csv\")"
      ],
      "metadata": {
        "id": "V6eddo9oy8D2"
      },
      "execution_count": null,
      "outputs": []
    },
    {
      "cell_type": "code",
      "source": [
        "# Step-3: Display basic information and initial rows\n",
        "print(data.head())\n",
        "print(data.tail())\n",
        "print(data.info())\n",
        "print(data.describe(include='all'))\n",
        "print(data.shape)"
      ],
      "metadata": {
        "id": "uC4q2FzxzHao"
      },
      "execution_count": null,
      "outputs": []
    },
    {
      "cell_type": "code",
      "source": [
        "# Check for missing values\n",
        "print(\"Missing values in Data:\")\n",
        "print(data.isnull().sum())"
      ],
      "metadata": {
        "id": "LVS0oebBzQhj"
      },
      "execution_count": null,
      "outputs": []
    },
    {
      "cell_type": "code",
      "source": [
        "#We have no missing values\n"
      ],
      "metadata": {
        "id": "VUUhUmT0zY5O"
      },
      "execution_count": null,
      "outputs": []
    },
    {
      "cell_type": "code",
      "source": [
        "#Check for duplicates\n",
        "print(\"Duplicates in Data:\")\n",
        "print(data.duplicated().sum())"
      ],
      "metadata": {
        "id": "7xdvFS6Sze_-"
      },
      "execution_count": null,
      "outputs": []
    },
    {
      "cell_type": "code",
      "source": [
        "#We must drop all the duplicates\n",
        "dup=data.drop_duplicates(inplace=True)\n",
        "print(dup)"
      ],
      "metadata": {
        "id": "voqX91kRzlTR"
      },
      "execution_count": null,
      "outputs": []
    },
    {
      "cell_type": "code",
      "source": [
        "print(data.duplicated().sum())\n"
      ],
      "metadata": {
        "id": "KABIjNtVzqSN"
      },
      "execution_count": null,
      "outputs": []
    },
    {
      "cell_type": "code",
      "source": [
        "crime_counts = data['Crm Cd Desc'].value_counts()\n",
        "highest_crime = crime_counts.idxmax()\n",
        "highest_crime_count = crime_counts.max()\n",
        "print(f\"The most common crime type is '{highest_crime}' with {highest_crime_count} incidents.\")"
      ],
      "metadata": {
        "id": "agFVRbSNzvLZ"
      },
      "execution_count": null,
      "outputs": []
    },
    {
      "cell_type": "code",
      "source": [
        "crime_by_area = data['AREA NAME'].value_counts()\n",
        "highest_crime_area = crime_by_area.idxmax()\n",
        "highest_crime_area_count = crime_by_area.max()\n",
        "print(f\"The area with the most recorded crimes is '{highest_crime_area}' with {highest_crime_area_count} incidents.\")"
      ],
      "metadata": {
        "id": "ZhYKKLMlz0lm"
      },
      "execution_count": null,
      "outputs": []
    },
    {
      "cell_type": "code",
      "source": [
        "# Count of each crime type\n",
        "top_n = 15\n",
        "top_crimes = data['Crm Cd Desc'].value_counts().nlargest(top_n)\n",
        "plt.figure(figsize=(14, 8))\n",
        "sns.barplot(x=top_crimes.values, y=top_crimes.index)\n",
        "plt.title(f'Top {top_n} Most Common Crime Types', fontsize=16)\n",
        "plt.xlabel('Number of Incidents', fontsize=14)\n",
        "plt.ylabel('Crime Type', fontsize=14)\n",
        "plt.show()\n"
      ],
      "metadata": {
        "id": "cFVe8q6Wz5Cg"
      },
      "execution_count": null,
      "outputs": []
    },
    {
      "cell_type": "code",
      "source": [
        "# draw lineplot\n",
        "sns.lineplot(x=\"Vict Age\", y=\"Weapon Desc\", data=data)"
      ],
      "metadata": {
        "id": "NUWW25rEz-ND"
      },
      "execution_count": null,
      "outputs": []
    },
    {
      "cell_type": "code",
      "source": [
        "plt.figure(figsize=(12, 6))\n",
        "sns.histplot(data['Vict Age'].dropna(), bins=30, kde=True)\n",
        "plt.title('Distribution of Victim Ages')\n",
        "plt.xlabel('Age')\n",
        "plt.ylabel('Frequency')\n",
        "plt.show()\n"
      ],
      "metadata": {
        "id": "YYof5gzz0CGT"
      },
      "execution_count": null,
      "outputs": []
    },
    {
      "cell_type": "code",
      "source": [
        "plt.figure(figsize=(8, 6))\n",
        "sns.countplot(x='Vict Sex', data=data)\n",
        "plt.title('Gender Distribution of Victims')\n",
        "plt.xlabel('Gender')\n",
        "plt.ylabel('Count')\n",
        "plt.show()"
      ],
      "metadata": {
        "id": "ba6lyl6U0GXy"
      },
      "execution_count": null,
      "outputs": []
    },
    {
      "cell_type": "code",
      "source": [
        "plt.figure(figsize=(12, 6))\n",
        "sns.countplot(y='AREA NAME', data=data, order=data['AREA NAME'].value_counts().index)\n",
        "plt.title('Crimes by Area')\n",
        "plt.show()\n"
      ],
      "metadata": {
        "id": "XuAlcW9J0LWI"
      },
      "execution_count": null,
      "outputs": []
    },
    {
      "cell_type": "code",
      "source": [
        "# Select numeric columns for correlation analysis\n",
        "numeric_data = data.select_dtypes(include=['float64', 'int64'])\n",
        "plt.figure(figsize=(10, 8))\n",
        "sns.heatmap(numeric_data.corr(), annot=True, cmap='coolwarm')\n",
        "plt.title('Correlation Matrix')\n",
        "plt.show()\n"
      ],
      "metadata": {
        "id": "QobvVpzG0PCU"
      },
      "execution_count": null,
      "outputs": []
    },
    {
      "cell_type": "code",
      "source": [
        "data.hist(figsize=(12, 10), bins=30)\n",
        "plt.suptitle('Histograms of Numerical Features in Crime Data')\n",
        "plt.show()"
      ],
      "metadata": {
        "id": "Tzn_3HNp0VNd"
      },
      "execution_count": null,
      "outputs": []
    },
    {
      "cell_type": "code",
      "source": [
        "# Get the top 10 most frequent crime types\n",
        "top_crimes = data['Crm Cd Desc'].value_counts().nlargest(10).index\n",
        "\n",
        "# Filter the data for these top crimes\n",
        "filtered_data = data[data['Crm Cd Desc'].isin(top_crimes)]\n",
        "\n",
        "# Create the box plot\n",
        "plt.figure(figsize=(20,15))\n",
        "sns.boxplot(x='Crm Cd Desc', y='Vict Age', data=filtered_data)\n",
        "plt.title('Victim\\'s Age by Top 10 Crime Types')\n",
        "plt.xlabel('Crime Type')\n",
        "plt.ylabel('Victim\\'s Age')\n",
        "plt.xticks(rotation=403)  # Rotate x labels for better readability\n",
        "plt.show()\n"
      ],
      "metadata": {
        "id": "5bO4retD0Z17"
      },
      "execution_count": null,
      "outputs": []
    },
    {
      "cell_type": "code",
      "source": [],
      "metadata": {
        "id": "OnNgaBga0fAi"
      },
      "execution_count": null,
      "outputs": []
    }
  ]
}