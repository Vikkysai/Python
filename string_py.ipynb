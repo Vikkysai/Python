{
  "nbformat": 4,
  "nbformat_minor": 0,
  "metadata": {
    "colab": {
      "provenance": []
    },
    "kernelspec": {
      "name": "python3",
      "display_name": "Python 3"
    },
    "language_info": {
      "name": "python"
    }
  },
  "cells": [
    {
      "cell_type": "code",
      "execution_count": 2,
      "metadata": {
        "colab": {
          "base_uri": "https://localhost:8080/"
        },
        "id": "-P8jEGeahecm",
        "outputId": "f99a4e3b-bc9a-4e51-d943-d7592ad2ad2a"
      },
      "outputs": [
        {
          "output_type": "stream",
          "name": "stdout",
          "text": [
            "[1, 23, 564, 9690]\n"
          ]
        }
      ],
      "source": [
        "a=[1,23,564]\n",
        "a.append(9690)\n",
        "print(a)"
      ]
    },
    {
      "cell_type": "code",
      "source": [
        "_a=[2,3,4,5,6,7,8,9]\n",
        "_b=[2,3,4,5,6,7,8,9,0]\n",
        "_a.extend(_b)\n",
        "print(_b)"
      ],
      "metadata": {
        "colab": {
          "base_uri": "https://localhost:8080/"
        },
        "id": "nMNvm9-mijSo",
        "outputId": "9f9e4e1b-7d86-4654-e3e5-6d976f4c51f0"
      },
      "execution_count": 3,
      "outputs": [
        {
          "output_type": "stream",
          "name": "stdout",
          "text": [
            "[2, 3, 4, 5, 6, 7, 8, 9, 0]\n"
          ]
        }
      ]
    },
    {
      "cell_type": "code",
      "source": [
        "age=[1,10,20,30,55,66,54,88,89,90,99,]\n",
        "age.insert(5,45)\n",
        "print(age)"
      ],
      "metadata": {
        "colab": {
          "base_uri": "https://localhost:8080/"
        },
        "id": "QvZ5XO76jfgn",
        "outputId": "adac1988-2ca8-44b2-c409-fafc9ce41da6"
      },
      "execution_count": 4,
      "outputs": [
        {
          "output_type": "stream",
          "name": "stdout",
          "text": [
            "[1, 10, 20, 30, 55, 45, 66, 54, 88, 89, 90, 99]\n"
          ]
        }
      ]
    },
    {
      "cell_type": "code",
      "source": [
        "weight=[40,50,60,70,80,90,100]\n",
        "weight.remove(70)\n",
        "print(weight)"
      ],
      "metadata": {
        "colab": {
          "base_uri": "https://localhost:8080/"
        },
        "id": "2PWQXU-KkPZL",
        "outputId": "81e7c3de-ebcc-4f97-919c-463eef10d322"
      },
      "execution_count": 5,
      "outputs": [
        {
          "output_type": "stream",
          "name": "stdout",
          "text": [
            "[40, 50, 60, 80, 90, 100]\n"
          ]
        }
      ]
    },
    {
      "cell_type": "code",
      "source": [
        "room_no=[301,401,601,801,901,101,]\n",
        "room_no.pop(5)\n",
        "print(room_no)"
      ],
      "metadata": {
        "colab": {
          "base_uri": "https://localhost:8080/"
        },
        "id": "hP0aL05Bk0ss",
        "outputId": "64b4278a-e204-4126-bc03-c251d2d7e116"
      },
      "execution_count": 6,
      "outputs": [
        {
          "output_type": "stream",
          "name": "stdout",
          "text": [
            "[301, 401, 601, 801, 901]\n"
          ]
        }
      ]
    },
    {
      "cell_type": "code",
      "source": [
        "_432=[321,621,802,204,803,901,704,]\n",
        "index=_432.index(204)\n",
        "print(index)"
      ],
      "metadata": {
        "colab": {
          "base_uri": "https://localhost:8080/"
        },
        "id": "cHL2tNAhliTi",
        "outputId": "f5186154-2581-45a8-d843-6b137a48bcfa"
      },
      "execution_count": 7,
      "outputs": [
        {
          "output_type": "stream",
          "name": "stdout",
          "text": [
            "3\n"
          ]
        }
      ]
    },
    {
      "cell_type": "code",
      "source": [
        "duplicate=[1,2,3,4,6,78,55,56,74,85,]\n",
        "print(duplicate.count(3))"
      ],
      "metadata": {
        "colab": {
          "base_uri": "https://localhost:8080/"
        },
        "id": "HSkLUIojmJ2P",
        "outputId": "a30a73b8-c850-4fc5-c121-e60079cdade4"
      },
      "execution_count": 8,
      "outputs": [
        {
          "output_type": "stream",
          "name": "stdout",
          "text": [
            "1\n"
          ]
        }
      ]
    },
    {
      "cell_type": "code",
      "source": [
        "order=[1,2,3,4,5,6,7,8,9,12,55,88,66]\n",
        "order.sort()\n",
        "print(order)"
      ],
      "metadata": {
        "colab": {
          "base_uri": "https://localhost:8080/"
        },
        "id": "TDHhE5o_mnH1",
        "outputId": "f2cb793b-ab2b-482c-bb61-8bf540838875"
      },
      "execution_count": 10,
      "outputs": [
        {
          "output_type": "stream",
          "name": "stdout",
          "text": [
            "[1, 2, 3, 4, 5, 6, 7, 8, 9, 12, 55, 66, 88]\n"
          ]
        }
      ]
    },
    {
      "cell_type": "code",
      "source": [
        "rev_list_1=[1236,4561,8521,7896,7892,2365,4562]\n",
        "rev_list_1.reverse()\n",
        "print(rev_list_1)"
      ],
      "metadata": {
        "colab": {
          "base_uri": "https://localhost:8080/"
        },
        "id": "bSAifE9rnUqU",
        "outputId": "8a90b3fb-4eb7-4081-c5a3-38b8efa09ec1"
      },
      "execution_count": 11,
      "outputs": [
        {
          "output_type": "stream",
          "name": "stdout",
          "text": [
            "[4562, 2365, 7892, 7896, 8521, 4561, 1236]\n"
          ]
        }
      ]
    },
    {
      "cell_type": "code",
      "source": [
        "list1=[2,3,4,5,'a','b']\n",
        "list1.clear()\n",
        "print(list1)\n"
      ],
      "metadata": {
        "colab": {
          "base_uri": "https://localhost:8080/"
        },
        "id": "nna3Pr2Kn9iv",
        "outputId": "2f4605e4-da56-42d0-b496-0ff4c0ff49fd"
      },
      "execution_count": 12,
      "outputs": [
        {
          "output_type": "stream",
          "name": "stdout",
          "text": [
            "[]\n"
          ]
        }
      ]
    },
    {
      "cell_type": "code",
      "source": [],
      "metadata": {
        "id": "QopQvcKro5OW"
      },
      "execution_count": null,
      "outputs": []
    }
  ]
}