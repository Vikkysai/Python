{
  "nbformat": 4,
  "nbformat_minor": 0,
  "metadata": {
    "colab": {
      "provenance": [],
      "authorship_tag": "ABX9TyOAZaEdcIgp3wJovRfn3yUo",
      "include_colab_link": true
    },
    "kernelspec": {
      "name": "python3",
      "display_name": "Python 3"
    },
    "language_info": {
      "name": "python"
    }
  },
  "cells": [
    {
      "cell_type": "markdown",
      "metadata": {
        "id": "view-in-github",
        "colab_type": "text"
      },
      "source": [
        "<a href=\"https://colab.research.google.com/github/Vikkysai/Python/blob/main/BYCLERENTAL.ipynb\" target=\"_parent\"><img src=\"https://colab.research.google.com/assets/colab-badge.svg\" alt=\"Open In Colab\"/></a>"
      ]
    },
    {
      "cell_type": "code",
      "execution_count": 1,
      "metadata": {
        "id": "xK9ass6YnkR_"
      },
      "outputs": [],
      "source": [
        "import pandas as pd\n",
        "import numpy as np\n",
        "import matplotlib.pyplot as plt\n",
        "import seaborn as sns"
      ]
    },
    {
      "cell_type": "code",
      "source": [
        "#data loading\n",
        "days=pd.read_csv('\\Users\\Durgam sai vivek\\Downloads\\archive')\n",
        "hours=pd.read_csv\n"
      ],
      "metadata": {
        "colab": {
          "base_uri": "https://localhost:8080/",
          "height": 106
        },
        "id": "NisRgNQWoSQf",
        "outputId": "1c959aea-2df5-488c-9291-b4362173d61d"
      },
      "execution_count": 5,
      "outputs": [
        {
          "output_type": "error",
          "ename": "SyntaxError",
          "evalue": "(unicode error) 'unicodeescape' codec can't decode bytes in position 0-1: truncated \\UXXXXXXXX escape (<ipython-input-5-26d16ca7b19e>, line 2)",
          "traceback": [
            "\u001b[0;36m  File \u001b[0;32m\"<ipython-input-5-26d16ca7b19e>\"\u001b[0;36m, line \u001b[0;32m2\u001b[0m\n\u001b[0;31m    days=pd.read_csv('\\Users\\Durgam sai vivek\\Downloads\\archive')\u001b[0m\n\u001b[0m                                                                ^\u001b[0m\n\u001b[0;31mSyntaxError\u001b[0m\u001b[0;31m:\u001b[0m (unicode error) 'unicodeescape' codec can't decode bytes in position 0-1: truncated \\UXXXXXXXX escape\n"
          ]
        }
      ]
    },
    {
      "cell_type": "code",
      "source": [
        "days.isna().sum()"
      ],
      "metadata": {
        "colab": {
          "base_uri": "https://localhost:8080/",
          "height": 141
        },
        "id": "C6erI5-bokr0",
        "outputId": "13a4954b-0e89-4fce-e7ca-9b52c9c896ae"
      },
      "execution_count": 4,
      "outputs": [
        {
          "output_type": "error",
          "ename": "AttributeError",
          "evalue": "'function' object has no attribute 'isna'",
          "traceback": [
            "\u001b[0;31m---------------------------------------------------------------------------\u001b[0m",
            "\u001b[0;31mAttributeError\u001b[0m                            Traceback (most recent call last)",
            "\u001b[0;32m<ipython-input-4-5237c6d9564e>\u001b[0m in \u001b[0;36m<cell line: 1>\u001b[0;34m()\u001b[0m\n\u001b[0;32m----> 1\u001b[0;31m \u001b[0mdays\u001b[0m\u001b[0;34m.\u001b[0m\u001b[0misna\u001b[0m\u001b[0;34m(\u001b[0m\u001b[0;34m)\u001b[0m\u001b[0;34m.\u001b[0m\u001b[0msum\u001b[0m\u001b[0;34m(\u001b[0m\u001b[0;34m)\u001b[0m\u001b[0;34m\u001b[0m\u001b[0;34m\u001b[0m\u001b[0m\n\u001b[0m",
            "\u001b[0;31mAttributeError\u001b[0m: 'function' object has no attribute 'isna'"
          ]
        }
      ]
    },
    {
      "cell_type": "code",
      "source": [
        "days.duplicated().sum()"
      ],
      "metadata": {
        "id": "sNy04oUFoZ2i"
      },
      "execution_count": null,
      "outputs": []
    },
    {
      "cell_type": "code",
      "source": [
        "hours.duplicated().any()"
      ],
      "metadata": {
        "id": "MmEI8zP-qTv9"
      },
      "execution_count": null,
      "outputs": []
    },
    {
      "cell_type": "code",
      "source": [
        "days.info()"
      ],
      "metadata": {
        "id": "y7UwTD7PqZQK"
      },
      "execution_count": null,
      "outputs": []
    },
    {
      "cell_type": "code",
      "source": [
        "hours.info()"
      ],
      "metadata": {
        "id": "QwYgygP5qduI"
      },
      "execution_count": null,
      "outputs": []
    },
    {
      "cell_type": "code",
      "source": [
        "days.describe()"
      ],
      "metadata": {
        "id": "U_Ie85M3qh-S"
      },
      "execution_count": null,
      "outputs": []
    },
    {
      "cell_type": "code",
      "source": [
        "hours.describe()"
      ],
      "metadata": {
        "id": "vDAQakxVqmsr"
      },
      "execution_count": null,
      "outputs": []
    },
    {
      "cell_type": "code",
      "source": [
        "days.columns"
      ],
      "metadata": {
        "id": "IiOVRC_LqrGR"
      },
      "execution_count": null,
      "outputs": []
    },
    {
      "cell_type": "code",
      "source": [
        "hours.columns"
      ],
      "metadata": {
        "id": "hehk0daGq75X"
      },
      "execution_count": null,
      "outputs": []
    },
    {
      "cell_type": "code",
      "source": [
        "days.head()"
      ],
      "metadata": {
        "id": "UNarh3nHq_wQ"
      },
      "execution_count": null,
      "outputs": []
    },
    {
      "cell_type": "code",
      "source": [
        "hours.head()"
      ],
      "metadata": {
        "id": "bcBtRaNgrDkD"
      },
      "execution_count": null,
      "outputs": []
    },
    {
      "cell_type": "code",
      "source": [
        "#count of every column in dataset\n",
        "for column in days:\n",
        "    plt.figure(figsize=(14, 5))\n",
        "    sns.countplot(x=column,data=days)\n",
        "    plt.title(f'Distribution of {column}')\n",
        "    plt.show()"
      ],
      "metadata": {
        "id": "VZ0CWUHgrHQ5"
      },
      "execution_count": null,
      "outputs": []
    },
    {
      "cell_type": "code",
      "source": [
        "#count of every column in dataset\n",
        "for column in hours:\n",
        "    plt.figure(figsize=(14, 5))\n",
        "    sns.countplot(x=column,data=hours)\n",
        "    plt.title(f'Distribution of {column}')\n",
        "    plt.show()\n"
      ],
      "metadata": {
        "id": "77N7IDHwrK3R"
      },
      "execution_count": null,
      "outputs": []
    },
    {
      "cell_type": "code",
      "source": [
        "#counting no.of days\n",
        "d = days.resample('D', on='dteday').size()\n",
        "print(d)\n",
        "d.value_counts()"
      ],
      "metadata": {
        "id": "HiPnCyDErT48"
      },
      "execution_count": null,
      "outputs": []
    },
    {
      "cell_type": "code",
      "source": [
        "fig, axes = plt.subplots(3,1, figsize = (9, 10))\n",
        "#Average bike rentals across month\n",
        "sns.lineplot(x=hours['mnth'], y=hours['cnt'], data=hours, marker='o', ax=axes[0])\n",
        "axes[0].set_title('Average bike rentals across month')\n",
        "axes[0].set_xticks(range(13))\n",
        "axes[0].grid(True)\n",
        "\n",
        "#Average bike rentals across hour\n",
        "sns.lineplot(x=hours['hr'], y=hours['cnt'], data=hours, marker='o', ax=axes[1])\n",
        "axes[1].set_title('Average bike rentals across hour')\n",
        "axes[1].set_xticks(range(24))\n",
        "axes[1].grid(True)\n",
        "\n",
        "#Average bike rentals across weekdays\n",
        "sns.lineplot(x=hours['weekday'], y=hours['cnt'], data=hours, marker='o', ax=axes[2])\n",
        "axes[2].set_title('Average bike rentals across day')\n",
        "axes[2].set_xticks(range(8))\n",
        "axes[2].grid(True)\n",
        "\n",
        "plt.tight_layout()"
      ],
      "metadata": {
        "id": "cvasKbczrapR"
      },
      "execution_count": null,
      "outputs": []
    },
    {
      "cell_type": "code",
      "source": [
        "fig, axes = plt.subplots(1,3, figsize = (15, 5))\n",
        "\n",
        "sns.barplot(x=hours['season'],y=hours['cnt'], data=hours, ax = axes[0])\n",
        "axes[0].set_title('Average bike rentals across season')\n",
        "\n",
        "sns.barplot(x=hours['weekday'],y=hours['cnt'], data=hours, ax = axes[1])\n",
        "axes[1].set_title('Average bike rentals across Weekday')\n",
        "\n",
        "sns.barplot(x=hours['weathersit'],y=hours['cnt'], data=hours, ax = axes[2])\n",
        "axes[2].set_title('Average bike rentals across Weather')\n",
        "\n",
        "plt.tight_layout()"
      ],
      "metadata": {
        "id": "6ms5ka_2rhrw"
      },
      "execution_count": null,
      "outputs": []
    },
    {
      "cell_type": "code",
      "source": [
        "#Count for each season with respect of Hour\n",
        "fig, ax = plt.subplots(figsize=(15,6))\n",
        "sns.pointplot(data = hours, x = hours['hr'], y = hours['cnt'], hue = hours['season'], ax=ax)\n",
        "plt.title('Count for each season with respect of Hour')\n",
        "plt.legend(handles, ['winter', 'spring', 'summer', 'fall'])"
      ],
      "metadata": {
        "id": "IEIS6A71rmaw"
      },
      "execution_count": null,
      "outputs": []
    },
    {
      "cell_type": "code",
      "source": [],
      "metadata": {
        "id": "7l-iLqs1rrgY"
      },
      "execution_count": null,
      "outputs": []
    }
  ]
}